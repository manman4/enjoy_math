{
 "cells": [
  {
   "cell_type": "code",
   "execution_count": 23,
   "metadata": {},
   "outputs": [],
   "source": [
    "from math import sqrt, floor\n",
    "\n",
    "def is_prime(num):\n",
    "    if num < 2: return None\n",
    "    if num == 2: return num\n",
    "    if num % 2 == 0: return None\n",
    "    for d in range(3, floor(sqrt(num)) + 1, 2):\n",
    "        if num % d == 0: return None\n",
    "    return num"
   ]
  },
  {
   "cell_type": "code",
   "execution_count": 24,
   "metadata": {},
   "outputs": [],
   "source": [
    "# 素数を判定する範囲を指定します\n",
    "start = 1\n",
    "end = 100"
   ]
  },
  {
   "cell_type": "code",
   "execution_count": 25,
   "metadata": {},
   "outputs": [
    {
     "name": "stdout",
     "output_type": "stream",
     "text": [
      "素数: [2, 3, 5, 7, 11, 13, 17, 19, 23, 29, 31, 37, 41, 43, 47, 53, 59, 61, 67, 71, 73, 79, 83, 89, 97]\n",
      "CPU times: user 10.7 ms, sys: 7.56 ms, total: 18.2 ms\n",
      "Wall time: 25.6 ms\n"
     ]
    }
   ],
   "source": [
    "%%time\n",
    "\n",
    "\n",
    "from joblib import Parallel, delayed\n",
    "\n",
    "\n",
    "# 素数を判定する範囲を指定します\n",
    "start = 1\n",
    "end = 100\n",
    "\n",
    "# 並列処理で素数を判定します\n",
    "results = Parallel(n_jobs=-1)(delayed(is_prime)(num) for num in range(start, end+1))\n",
    "\n",
    "# 結果を表示します\n",
    "primes = [num for num, isprime in zip(range(start, end+1), results) if isprime]\n",
    "print(\"素数:\", primes)"
   ]
  },
  {
   "cell_type": "markdown",
   "metadata": {},
   "source": [
    "## concurrent.futures"
   ]
  },
  {
   "cell_type": "code",
   "execution_count": 26,
   "metadata": {},
   "outputs": [
    {
     "name": "stdout",
     "output_type": "stream",
     "text": [
      "素数: [2, 3, 5, 7, 11, 13, 17, 19, 23, 29, 31, 37, 41, 43, 47, 53, 59, 61, 67, 71, 73, 79, 83, 89, 97]\n",
      "CPU times: user 23.9 ms, sys: 14.7 ms, total: 38.6 ms\n",
      "Wall time: 50.7 ms\n"
     ]
    }
   ],
   "source": [
    "%%time\n",
    "\n",
    "import concurrent.futures\n",
    "\n",
    "# 並列で素数判定を行う\n",
    "def check_primes_concurrently(numbers):\n",
    "    with concurrent.futures.ThreadPoolExecutor() as executor:\n",
    "        results = list(executor.map(is_prime, numbers))\n",
    "    return results\n",
    "\n",
    "\n",
    "# 並列処理で素数判定を実行\n",
    "prime_results = check_primes_concurrently(range(start, end+1))\n",
    "\n",
    "# 内包表記で素数のみをリスト化し表示\n",
    "prime_numbers = [number for number, is_prime_result in zip(numbers, prime_results) if is_prime_result]\n",
    "\n",
    "print(\"素数:\", prime_numbers)\n"
   ]
  }
 ],
 "metadata": {
  "kernelspec": {
   "display_name": "Python 3.8.5 ('base')",
   "language": "python",
   "name": "python3"
  },
  "language_info": {
   "codemirror_mode": {
    "name": "ipython",
    "version": 3
   },
   "file_extension": ".py",
   "mimetype": "text/x-python",
   "name": "python",
   "nbconvert_exporter": "python",
   "pygments_lexer": "ipython3",
   "version": "3.11.5"
  },
  "orig_nbformat": 4,
  "vscode": {
   "interpreter": {
    "hash": "8ad9b3c300ef8b98a084aa4c6594714fe115163faf6d663e5ab47cea338ac9fd"
   }
  }
 },
 "nbformat": 4,
 "nbformat_minor": 2
}
